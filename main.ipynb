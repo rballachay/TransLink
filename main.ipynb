from TranslinkAccess import TranslinkAPI

TranslinkAPI()
