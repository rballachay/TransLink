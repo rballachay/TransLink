{
 "cells": [
  {
   "cell_type": "markdown",
   "metadata": {},
   "source": [
    "# Visualizing Distribution of Bus Stops in Vancouver\n",
    "\n",
    "### Started and Completed on May 13th, 2020\n",
    "\n",
    "I use two separate APIs in this project, one from Translink, which iterates over 400 coordinate pairs in metro vancouver and pulls in a list of all the bus stops. I then use a second API from mapquest to get a map of metro \n",
    "vancouver, which I can then plot all of my coordi"
   ]
  },
  {
   "cell_type": "code",
   "execution_count": null,
   "metadata": {},
   "outputs": [],
   "source": [
    "from TranslinkAccess import TranslinkAPI\n",
    "\n",
    "TAPI = TranslinkAPI() "
   ]
  }
 ],
 "metadata": {
  "kernelspec": {
   "display_name": "Python 3",
   "language": "python",
   "name": "python3"
  },
  "language_info": {
   "codemirror_mode": {
    "name": "ipython",
    "version": 3
   },
   "file_extension": ".py",
   "mimetype": "text/x-python",
   "name": "python",
   "nbconvert_exporter": "python",
   "pygments_lexer": "ipython3",
   "version": "3.7.1"
  }
 },
 "nbformat": 4,
 "nbformat_minor": 2
}
